{
 "cells": [
  {
   "cell_type": "code",
   "execution_count": 36,
   "metadata": {},
   "outputs": [],
   "source": [
    "# Created by: Michael Cullen\n",
    "# 08/10/2024"
   ]
  },
  {
   "cell_type": "code",
   "execution_count": 37,
   "metadata": {},
   "outputs": [],
   "source": [
    "import matplotlib.pyplot as plt\n",
    "import pandas as pd\n",
    "from sklearn.linear_model import LinearRegression\n",
    "from sklearn.model_selection import train_test_split\n",
    "import ipywidgets as widgets"
   ]
  },
  {
   "cell_type": "code",
   "execution_count": null,
   "metadata": {},
   "outputs": [],
   "source": [
    "df = pd.read_csv('Average-prices-2024-06.csv', header=0)  # Header=0 to use the first row as column names\n",
    "\n",
    "print(df.head())  # Display the first few rows to verify\n",
    "print(df.columns)  # Display column names"
   ]
  },
  {
   "cell_type": "code",
   "execution_count": 42,
   "metadata": {},
   "outputs": [],
   "source": [
    "widgets.Dropdown(\n",
    "    options=['1', '2', '3'],\n",
    "    value='2',\n",
    "    description='Number:',\n",
    "    disabled=False,\n",
    ")\n",
    "\n",
    "# Filter by the region/area of interest\n",
    "area_of_interest = 'London'\n",
    "df_area = df[df['Region_Name'] == area_of_interest]"
   ]
  },
  {
   "cell_type": "code",
   "execution_count": null,
   "metadata": {},
   "outputs": [],
   "source": [
    "if df_area.empty:\n",
    "    print(f\"No data found for region: {area_of_interest}\")\n",
    "else:\n",
    "    # Convert 'Date' column to datetime format\n",
    "    df_area['Date'] = pd.to_datetime(df_area['Date'])\n",
    "\n",
    "    # Use every 5th sample from the dataset\n",
    "    df_area['Years'] = pd.DatetimeIndex(df_area['Date']).year\n",
    "\n",
    "    # Prepare features and target variable\n",
    "    df_area_sampled = df_area.iloc[::2]\n",
    "\n",
    "    # Prepare features (X) and target variable (y)\n",
    "    x = df_area_sampled[['Years']]\n",
    "    y = df_area_sampled['Average_Price']\n",
    "\n",
    "    #split data\n",
    "    X_train, X_test, y_train, y_test = train_test_split(x, y, test_size=0.33, random_state=42)\n",
    "\n",
    "    # Train the model\n",
    "    model = LinearRegression(fit_intercept=True)\n",
    "    model.fit(X_train, y_train)\n",
    "    y_pred = model.predict(X_train)\n",
    "\n",
    "    # Plot the data\n",
    "    plt.xlabel('Date')\n",
    "    plt.ylabel('Average Price (£)')\n",
    "    plt.title(f'House Prices in {area_of_interest}')\n",
    "    plt.legend()\n",
    "    plt.scatter(X_train,y_train,alpha=0.5)\n",
    "    plt.xlim(1970)\n",
    "    plt.ylim(3000)\n",
    "    plt.grid(True)\n",
    "    plt.plot(X_train,y_pred,color='red')\n"
   ]
  },
  {
   "cell_type": "code",
   "execution_count": null,
   "metadata": {},
   "outputs": [],
   "source": [
    "print(\"Model slope:    \", model.coef_[0])\n",
    "print(\"Model intercept:\", model.intercept_)"
   ]
  }
 ],
 "metadata": {
  "kernelspec": {
   "display_name": "venv",
   "language": "python",
   "name": "python3"
  },
  "language_info": {
   "codemirror_mode": {
    "name": "ipython",
    "version": 3
   },
   "file_extension": ".py",
   "mimetype": "text/x-python",
   "name": "python",
   "nbconvert_exporter": "python",
   "pygments_lexer": "ipython3",
   "version": "3.10.11"
  }
 },
 "nbformat": 4,
 "nbformat_minor": 2
}
